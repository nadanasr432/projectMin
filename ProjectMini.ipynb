{
 "cells": [
  {
   "cell_type": "markdown",
   "id": "3459fe8b",
   "metadata": {},
   "source": [
    "# 1-Load Dataset"
   ]
  },
  {
   "cell_type": "code",
   "execution_count": 50,
   "id": "9e85991b",
   "metadata": {},
   "outputs": [
    {
     "name": "stdout",
     "output_type": "stream",
     "text": [
      "    Age  Income($)\n",
      "0    27      70000\n",
      "1    29      90000\n",
      "2    29      61000\n",
      "3    28      60000\n",
      "4    42     150000\n",
      "5    39     155000\n",
      "6    41     160000\n",
      "7    38     162000\n",
      "8    36     156000\n",
      "9    35     130000\n",
      "10   37     137000\n",
      "11   26      45000\n",
      "12   27      48000\n",
      "13   28      51000\n",
      "14   29      49500\n",
      "15   32      53000\n",
      "16   40      65000\n",
      "17   41      63000\n",
      "18   43      64000\n",
      "19   39      80000\n",
      "20   41      82000\n",
      "21   39      58000\n"
     ]
    },
    {
     "data": {
      "text/html": [
       "<div>\n",
       "<style scoped>\n",
       "    .dataframe tbody tr th:only-of-type {\n",
       "        vertical-align: middle;\n",
       "    }\n",
       "\n",
       "    .dataframe tbody tr th {\n",
       "        vertical-align: top;\n",
       "    }\n",
       "\n",
       "    .dataframe thead th {\n",
       "        text-align: right;\n",
       "    }\n",
       "</style>\n",
       "<table border=\"1\" class=\"dataframe\">\n",
       "  <thead>\n",
       "    <tr style=\"text-align: right;\">\n",
       "      <th></th>\n",
       "      <th>Age</th>\n",
       "      <th>Income($)</th>\n",
       "    </tr>\n",
       "  </thead>\n",
       "  <tbody>\n",
       "    <tr>\n",
       "      <th>0</th>\n",
       "      <td>27</td>\n",
       "      <td>70000</td>\n",
       "    </tr>\n",
       "    <tr>\n",
       "      <th>1</th>\n",
       "      <td>29</td>\n",
       "      <td>90000</td>\n",
       "    </tr>\n",
       "    <tr>\n",
       "      <th>2</th>\n",
       "      <td>29</td>\n",
       "      <td>61000</td>\n",
       "    </tr>\n",
       "    <tr>\n",
       "      <th>3</th>\n",
       "      <td>28</td>\n",
       "      <td>60000</td>\n",
       "    </tr>\n",
       "    <tr>\n",
       "      <th>4</th>\n",
       "      <td>42</td>\n",
       "      <td>150000</td>\n",
       "    </tr>\n",
       "  </tbody>\n",
       "</table>\n",
       "</div>"
      ],
      "text/plain": [
       "   Age  Income($)\n",
       "0   27      70000\n",
       "1   29      90000\n",
       "2   29      61000\n",
       "3   28      60000\n",
       "4   42     150000"
      ]
     },
     "execution_count": 50,
     "metadata": {},
     "output_type": "execute_result"
    }
   ],
   "source": [
    "import numpy as np\n",
    "import matplotlib.pyplot as plt\n",
    "import pandas as pd\n",
    "import seaborn as sns\n",
    "from sklearn.metrics import silhouette_score\n",
    "from scipy.stats import entropy\n",
    "from sklearn import metrics\n",
    "from sklearn.preprocessing import OneHotEncoder, MinMaxScaler\n",
    "from sklearn.cluster import KMeans\n",
    "from sklearn.metrics.pairwise import pairwise_distances\n",
    "from math import log\n",
    "\n",
    "dataset = pd.read_csv(r'C:\\Users\\vip\\Downloads\\income-1 (1).csv')\n",
    "numeric_data = dataset.select_dtypes(include=['float64', 'int64'])\n",
    "\n",
    "print(numeric_data)\n",
    "numeric_data.head()"
   ]
  },
  {
   "cell_type": "markdown",
   "id": "63bf3ccf",
   "metadata": {},
   "source": [
    "# 2-Cluster Cohesion"
   ]
  },
  {
   "cell_type": "code",
   "execution_count": 51,
   "id": "e851edd7",
   "metadata": {},
   "outputs": [
    {
     "name": "stderr",
     "output_type": "stream",
     "text": [
      "C:\\Users\\vip\\anaconda3\\lib\\site-packages\\sklearn\\cluster\\_kmeans.py:870: FutureWarning: The default value of `n_init` will change from 10 to 'auto' in 1.4. Set the value of `n_init` explicitly to suppress the warning\n",
      "  warnings.warn(\n",
      "C:\\Users\\vip\\anaconda3\\lib\\site-packages\\sklearn\\cluster\\_kmeans.py:1382: UserWarning: KMeans is known to have a memory leak on Windows with MKL, when there are less chunks than available threads. You can avoid it by setting the environment variable OMP_NUM_THREADS=1.\n",
      "  warnings.warn(\n"
     ]
    },
    {
     "name": "stdout",
     "output_type": "stream",
     "text": [
      "Cluster cohesion: 1577046058.883117\n"
     ]
    }
   ],
   "source": [
    "# Initialize the KMeans object with the desired number of clusters\n",
    "kmeans = KMeans(n_clusters=3, random_state=42)\n",
    "\n",
    "# Fit the model to the data\n",
    "kmeans.fit(numeric_data)\n",
    "\n",
    "# Calculate the cluster cohesion (inertia)\n",
    "cohesion = kmeans.inertia_\n",
    "\n",
    "print(\"Cluster cohesion:\", cohesion)\n",
    "\n"
   ]
  },
  {
   "cell_type": "markdown",
   "id": "bb302969",
   "metadata": {},
   "source": [
    "# 3-Cluster Separation\n"
   ]
  },
  {
   "cell_type": "code",
   "execution_count": 52,
   "id": "a0077820",
   "metadata": {},
   "outputs": [
    {
     "name": "stderr",
     "output_type": "stream",
     "text": [
      "C:\\Users\\vip\\anaconda3\\lib\\site-packages\\sklearn\\cluster\\_kmeans.py:870: FutureWarning: The default value of `n_init` will change from 10 to 'auto' in 1.4. Set the value of `n_init` explicitly to suppress the warning\n",
      "  warnings.warn(\n",
      "C:\\Users\\vip\\anaconda3\\lib\\site-packages\\sklearn\\cluster\\_kmeans.py:1382: UserWarning: KMeans is known to have a memory leak on Windows with MKL, when there are less chunks than available threads. You can avoid it by setting the environment variable OMP_NUM_THREADS=1.\n",
      "  warnings.warn(\n"
     ]
    },
    {
     "name": "stdout",
     "output_type": "stream",
     "text": [
      "[2 2 2 2 1 1 1 1 1 1 1 2 2 2 2 2 0 0 0 0 0 0]\n"
     ]
    },
    {
     "data": {
      "text/plain": [
       "<matplotlib.legend.Legend at 0x2be65ff0070>"
      ]
     },
     "execution_count": 52,
     "metadata": {},
     "output_type": "execute_result"
    },
    {
     "data": {
      "image/png": "[encoded data removed]",
      "text/plain": [
       "<Figure size 640x480 with 1 Axes>"
      ]
     },
     "metadata": {},
     "output_type": "display_data"
    }
   ],
   "source": [
    "scaler = MinMaxScaler()\n",
    "\n",
    "scaler.fit(numeric_data[['Income($)']])\n",
    "numeric_data['Income($)'] = scaler.transform(numeric_data[['Income($)']])\n",
    "\n",
    "scaler.fit(numeric_data[['Age']])\n",
    "numeric_data['Age'] = scaler.transform(numeric_data[['Age']])\n",
    "numeric_data.head()\n",
    "plt.scatter(numeric_data.Age, numeric_data['Income($)'])\n",
    "km = KMeans(n_clusters=3)\n",
    "y_predicted = km.fit_predict(numeric_data[['Age', 'Income($)']])\n",
    "y_predicted\n",
    "numeric_data['cluster'] = y_predicted\n",
    "numeric_data.head()\n",
    "\n",
    "km.cluster_centers_\n",
    "\n",
    "print(km.labels_)\n",
    "df1 = numeric_data[numeric_data.cluster == 0]\n",
    "df2 = numeric_data[numeric_data.cluster == 1]\n",
    "df3 = numeric_data[numeric_data.cluster == 2]\n",
    "plt.scatter(df1.Age, df1['Income($)'], color='green')\n",
    "plt.scatter(df2.Age, df2['Income($)'], color='red')\n",
    "plt.scatter(df3.Age, df3['Income($)'], color='black')\n",
    "plt.scatter(km.cluster_centers_[:, 0], km.cluster_centers_[:, 1], color='purple', marker='*', label='centroid')\n",
    "plt.legend()"
   ]
  },
  {
   "cell_type": "markdown",
   "id": "1bdde043",
   "metadata": {},
   "source": [
    "# 4-Silhouette Coefficient"
   ]
  },
  {
   "cell_type": "code",
   "execution_count": 53,
   "id": "373cca72",
   "metadata": {},
   "outputs": [
    {
     "name": "stdout",
     "output_type": "stream",
     "text": [
      "Silhouette Coefficient: 0.8440849267382081\n"
     ]
    }
   ],
   "source": [
    "score = silhouette_score(numeric_data, km.labels_)\n",
    "print(\"Silhouette Coefficient:\", score)"
   ]
  },
  {
   "cell_type": "markdown",
   "id": "4663832b",
   "metadata": {},
   "source": [
    "# 5-Similarity Matrix"
   ]
  },
  {
   "cell_type": "code",
   "execution_count": 54,
   "id": "14977764",
   "metadata": {},
   "outputs": [
    {
     "name": "stdout",
     "output_type": "stream",
     "text": [
      "Similarity matrix: [[1.         0.99489069 0.99756043 0.99867027 0.68072759 0.7103483\n",
      "  0.67850744 0.7090629  0.74188161 0.80804716 0.76815085 0.99391631\n",
      "  0.99562515 0.99630952 0.9944908  0.98688861 0.0502041  0.04703795\n",
      "  0.04587601 0.06590882 0.06334537 0.0441977 ]\n",
      " [0.99489069 1.         0.99265652 0.99173271 0.74882108 0.77726113\n",
      "  0.74813566 0.77655598 0.8057769  0.86322083 0.82827349 0.97834072\n",
      "  0.98278603 0.98621441 0.98556506 0.98423241 0.12276025 0.11735796\n",
      "  0.11536594 0.1489335  0.14473987 0.11247999]\n",
      " [0.99756043 0.99265652 1.         0.99956565 0.69329568 0.71586495\n",
      "  0.68690443 0.710924   0.74056376 0.81033967 0.77352666 0.99382725\n",
      "  0.99676468 0.99867394 0.99880696 0.9956678  0.09967132 0.09805963\n",
      "  0.09744932 0.10642056 0.10547588 0.09655044]\n",
      " [0.99867027 0.99173271 0.99956565 1.         0.67583694 0.70079215\n",
      "  0.67043819 0.69686832 0.72816348 0.79846765 0.75977227 0.99623668\n",
      "  0.99826532 0.99926612 0.998572   0.99284922 0.07035815 0.06870049\n",
      "  0.06808094 0.07784008 0.07671217 0.06717576]\n",
      " [0.68072759 0.74882108 0.69329568 0.67583694 1.         0.99453583\n",
      "  0.99806781 0.98798759 0.97822092 0.97478382 0.98860226 0.60957432\n",
      "  0.63313606 0.65600019 0.66799835 0.71801365 0.67292534 0.65915625\n",
      "  0.6539876  0.73358611 0.72464744 0.64641559]\n",
      " [0.7103483  0.77726113 0.71586495 0.70079215 0.99453583 1.\n",
      "  0.99839445 0.99860039 0.99448847 0.98824032 0.99625855 0.63645273\n",
      "  0.65810023 0.67902845 0.68810382 0.73108108 0.59815387 0.58224689\n",
      "  0.57632126 0.67124462 0.66004685 0.56768132]\n",
      " [0.67850744 0.74813566 0.68690443 0.67043819 0.99806781 0.99839445\n",
      "  1.         0.99510385 0.98737179 0.9791404  0.99125551 0.60361003\n",
      "  0.62655854 0.64881744 0.65933029 0.7065573  0.64206094 0.62658967\n",
      "  0.62081103 0.71213683 0.70153881 0.61237151]\n",
      " [0.7090629  0.77655598 0.710924   0.69686832 0.98798759 0.99860039\n",
      "  0.99510385 1.         0.99793914 0.9881722  0.99432632 0.63267449\n",
      "  0.65358449 0.67378135 0.68147347 0.72155082 0.5658566  0.54862922\n",
      "  0.54223254 0.64639109 0.63386555 0.53292469]\n",
      " [0.74188161 0.8057769  0.74056376 0.72816348 0.97822092 0.99448847\n",
      "  0.98737179 0.99793914 1.         0.99277698 0.99422043 0.6672472\n",
      "  0.68655375 0.70511663 0.71115908 0.74619445 0.51296234 0.49539877\n",
      "  0.48889351 0.59614248 0.58306176 0.47944246]\n",
      " [0.80804716 0.86322083 0.81033967 0.79846765 0.97478382 0.98824032\n",
      "  0.9791404  0.9881722  0.99277698 1.         0.99723836 0.74369016\n",
      "  0.76180487 0.7791012  0.78562318 0.81852285 0.4953082  0.48067059\n",
      "  0.47523183 0.56349217 0.55292013 0.4673145 ]\n",
      " [0.76815085 0.82827349 0.77352666 0.75977227 0.98860226 0.99625855\n",
      "  0.99125551 0.99432632 0.99422043 0.99723836 1.         0.70065683\n",
      "  0.72068367 0.73993037 0.74821006 0.78688695 0.55587691 0.54126231\n",
      "  0.53581652 0.62292306 0.61266581 0.52787475]\n",
      " [0.99391631 0.97834072 0.99382725 0.99623668 0.60957432 0.63645273\n",
      "  0.60361003 0.63267449 0.6672472  0.74369016 0.70065683 1.\n",
      "  0.99948569 0.9979475  0.99594713 0.9842259  0.         0.\n",
      "  0.         0.         0.         0.        ]\n",
      " [0.99562515 0.98278603 0.99676468 0.99826532 0.63313606 0.65810023\n",
      "  0.62655854 0.65358449 0.68655375 0.76180487 0.72068367 0.99948569\n",
      "  1.         0.9994878  0.99826363 0.98925668 0.03138739 0.03116075\n",
      "  0.03107051 0.03204467 0.03199625 0.03093366]\n",
      " [0.99630952 0.98621441 0.99867394 0.99926612 0.65600019 0.67902845\n",
      "  0.64881744 0.67378135 0.70511663 0.7791012  0.73993037 0.9979475\n",
      "  0.9994878  1.         0.9995517  0.9932627  0.06267817 0.06222558\n",
      "  0.06204538 0.06399071 0.06389402 0.06177211]\n",
      " [0.9944908  0.98556506 0.99880696 0.998572   0.66799835 0.68810382\n",
      "  0.65933029 0.68147347 0.71115908 0.78562318 0.74821006 0.99594713\n",
      "  0.99826363 0.9995517  1.         0.99614463 0.08993621 0.08986144\n",
      "  0.08981145 0.08881615 0.08918695 0.08971846]\n",
      " [0.98688861 0.98423241 0.9956678  0.99284922 0.71801365 0.73108108\n",
      "  0.7065573  0.72155082 0.74619445 0.81852285 0.78688695 0.9842259\n",
      "  0.98925668 0.9932627  0.99614463 1.         0.17690067 0.17688527\n",
      "  0.17683472 0.17400944 0.17485555 0.17672035]\n",
      " [0.0502041  0.12276025 0.09967132 0.07035815 0.67292534 0.59815387\n",
      "  0.64206094 0.5658566  0.51296234 0.4953082  0.55587691 0.\n",
      "  0.03138739 0.06267817 0.08993621 0.17690067 1.         0.99948675\n",
      "  0.99904635 0.98588357 0.99028862 0.99817801]\n",
      " [0.04703795 0.11735796 0.09805963 0.06870049 0.65915625 0.58224689\n",
      "  0.62658967 0.54862922 0.49539877 0.48067059 0.54126231 0.\n",
      "  0.03116075 0.06222558 0.08986144 0.17688527 0.99948675 1.\n",
      "  0.9999323  0.98001391 0.98532667 0.99959861]\n",
      " [0.04587601 0.11536594 0.09744932 0.06808094 0.6539876  0.57632126\n",
      "  0.62081103 0.54223254 0.48889351 0.47523183 0.53581652 0.\n",
      "  0.03107051 0.06204538 0.08981145 0.17683472 0.99904635 0.9999323\n",
      "  1.         0.97763292 0.98327402 0.99986058]\n",
      " [0.06590882 0.1489335  0.10642056 0.07784008 0.73358611 0.67124462\n",
      "  0.71213683 0.64639109 0.59614248 0.56349217 0.62292306 0.\n",
      "  0.03204467 0.06399071 0.08881615 0.17400944 0.98588357 0.98001391\n",
      "  0.97763292 1.         0.99958686 0.9739848 ]\n",
      " [0.06334537 0.14473987 0.10547588 0.07671217 0.72464744 0.66004685\n",
      "  0.70153881 0.63386555 0.58306176 0.55292013 0.61266581 0.\n",
      "  0.03199625 0.06389402 0.08918695 0.17485555 0.99028862 0.98532667\n",
      "  0.98327402 0.99958686 1.         0.98009576]\n",
      " [0.0441977  0.11247999 0.09655044 0.06717576 0.64641559 0.56768132\n",
      "  0.61237151 0.53292469 0.47944246 0.4673145  0.52787475 0.\n",
      "  0.03093366 0.06177211 0.08971846 0.17672035 0.99817801 0.99959861\n",
      "  0.99986058 0.9739848  0.98009576 1.        ]]\n"
     ]
    }
   ],
   "source": [
    "# Calculate similarity matrix\n",
    "similarity_matrix = 1 - pairwise_distances(numeric_data, metric='cosine')\n",
    "print(\"Similarity matrix:\", similarity_matrix)\n"
   ]
  },
  {
   "cell_type": "markdown",
   "id": "4b46930d",
   "metadata": {},
   "source": [
    "# 6-Correlation"
   ]
  },
  {
   "cell_type": "code",
   "execution_count": 55,
   "id": "161707fd",
   "metadata": {},
   "outputs": [
    {
     "data": {
      "image/png": "[encoded data removed]",
      "text/plain": [
       "<Figure size 640x480 with 2 Axes>"
      ]
     },
     "metadata": {},
     "output_type": "display_data"
    }
   ],
   "source": [
    "corr_matrix = numeric_data.corr()\n",
    "sns.heatmap(corr_matrix)\n",
    "plt.show()\n"
   ]
  },
  {
   "cell_type": "markdown",
   "id": "8e922794",
   "metadata": {},
   "source": [
    "# 7-SSE"
   ]
  },
  {
   "cell_type": "code",
   "execution_count": 56,
   "id": "f3283068",
   "metadata": {},
   "outputs": [
    {
     "name": "stderr",
     "output_type": "stream",
     "text": [
      "C:\\Users\\vip\\anaconda3\\lib\\site-packages\\sklearn\\cluster\\_kmeans.py:870: FutureWarning: The default value of `n_init` will change from 10 to 'auto' in 1.4. Set the value of `n_init` explicitly to suppress the warning\n",
      "  warnings.warn(\n",
      "C:\\Users\\vip\\anaconda3\\lib\\site-packages\\sklearn\\cluster\\_kmeans.py:1382: UserWarning: KMeans is known to have a memory leak on Windows with MKL, when there are less chunks than available threads. You can avoid it by setting the environment variable OMP_NUM_THREADS=1.\n",
      "  warnings.warn(\n",
      "C:\\Users\\vip\\anaconda3\\lib\\site-packages\\sklearn\\cluster\\_kmeans.py:870: FutureWarning: The default value of `n_init` will change from 10 to 'auto' in 1.4. Set the value of `n_init` explicitly to suppress the warning\n",
      "  warnings.warn(\n",
      "C:\\Users\\vip\\anaconda3\\lib\\site-packages\\sklearn\\cluster\\_kmeans.py:1382: UserWarning: KMeans is known to have a memory leak on Windows with MKL, when there are less chunks than available threads. You can avoid it by setting the environment variable OMP_NUM_THREADS=1.\n",
      "  warnings.warn(\n",
      "C:\\Users\\vip\\anaconda3\\lib\\site-packages\\sklearn\\cluster\\_kmeans.py:870: FutureWarning: The default value of `n_init` will change from 10 to 'auto' in 1.4. Set the value of `n_init` explicitly to suppress the warning\n",
      "  warnings.warn(\n",
      "C:\\Users\\vip\\anaconda3\\lib\\site-packages\\sklearn\\cluster\\_kmeans.py:1382: UserWarning: KMeans is known to have a memory leak on Windows with MKL, when there are less chunks than available threads. You can avoid it by setting the environment variable OMP_NUM_THREADS=1.\n",
      "  warnings.warn(\n",
      "C:\\Users\\vip\\anaconda3\\lib\\site-packages\\sklearn\\cluster\\_kmeans.py:870: FutureWarning: The default value of `n_init` will change from 10 to 'auto' in 1.4. Set the value of `n_init` explicitly to suppress the warning\n",
      "  warnings.warn(\n",
      "C:\\Users\\vip\\anaconda3\\lib\\site-packages\\sklearn\\cluster\\_kmeans.py:1382: UserWarning: KMeans is known to have a memory leak on Windows with MKL, when there are less chunks than available threads. You can avoid it by setting the environment variable OMP_NUM_THREADS=1.\n",
      "  warnings.warn(\n",
      "C:\\Users\\vip\\anaconda3\\lib\\site-packages\\sklearn\\cluster\\_kmeans.py:870: FutureWarning: The default value of `n_init` will change from 10 to 'auto' in 1.4. Set the value of `n_init` explicitly to suppress the warning\n",
      "  warnings.warn(\n",
      "C:\\Users\\vip\\anaconda3\\lib\\site-packages\\sklearn\\cluster\\_kmeans.py:1382: UserWarning: KMeans is known to have a memory leak on Windows with MKL, when there are less chunks than available threads. You can avoid it by setting the environment variable OMP_NUM_THREADS=1.\n",
      "  warnings.warn(\n",
      "C:\\Users\\vip\\anaconda3\\lib\\site-packages\\sklearn\\cluster\\_kmeans.py:870: FutureWarning: The default value of `n_init` will change from 10 to 'auto' in 1.4. Set the value of `n_init` explicitly to suppress the warning\n",
      "  warnings.warn(\n",
      "C:\\Users\\vip\\anaconda3\\lib\\site-packages\\sklearn\\cluster\\_kmeans.py:1382: UserWarning: KMeans is known to have a memory leak on Windows with MKL, when there are less chunks than available threads. You can avoid it by setting the environment variable OMP_NUM_THREADS=1.\n",
      "  warnings.warn(\n",
      "C:\\Users\\vip\\anaconda3\\lib\\site-packages\\sklearn\\cluster\\_kmeans.py:870: FutureWarning: The default value of `n_init` will change from 10 to 'auto' in 1.4. Set the value of `n_init` explicitly to suppress the warning\n",
      "  warnings.warn(\n",
      "C:\\Users\\vip\\anaconda3\\lib\\site-packages\\sklearn\\cluster\\_kmeans.py:1382: UserWarning: KMeans is known to have a memory leak on Windows with MKL, when there are less chunks than available threads. You can avoid it by setting the environment variable OMP_NUM_THREADS=1.\n",
      "  warnings.warn(\n",
      "C:\\Users\\vip\\anaconda3\\lib\\site-packages\\sklearn\\cluster\\_kmeans.py:870: FutureWarning: The default value of `n_init` will change from 10 to 'auto' in 1.4. Set the value of `n_init` explicitly to suppress the warning\n",
      "  warnings.warn(\n",
      "C:\\Users\\vip\\anaconda3\\lib\\site-packages\\sklearn\\cluster\\_kmeans.py:1382: UserWarning: KMeans is known to have a memory leak on Windows with MKL, when there are less chunks than available threads. You can avoid it by setting the environment variable OMP_NUM_THREADS=1.\n",
      "  warnings.warn(\n",
      "C:\\Users\\vip\\anaconda3\\lib\\site-packages\\sklearn\\cluster\\_kmeans.py:870: FutureWarning: The default value of `n_init` will change from 10 to 'auto' in 1.4. Set the value of `n_init` explicitly to suppress the warning\n",
      "  warnings.warn(\n",
      "C:\\Users\\vip\\anaconda3\\lib\\site-packages\\sklearn\\cluster\\_kmeans.py:1382: UserWarning: KMeans is known to have a memory leak on Windows with MKL, when there are less chunks than available threads. You can avoid it by setting the environment variable OMP_NUM_THREADS=1.\n",
      "  warnings.warn(\n"
     ]
    },
    {
     "data": {
      "image/png": "[encoded data removed]",
      "text/plain": [
       "<Figure size 640x480 with 1 Axes>"
      ]
     },
     "metadata": {},
     "output_type": "display_data"
    }
   ],
   "source": [
    "sse = []\n",
    "k_rng = range(1, 10)\n",
    "for k in k_rng:\n",
    "    km = KMeans(n_clusters=k)\n",
    "    km.fit(numeric_data[['Age', 'Income($)']])\n",
    "    sse.append(km.inertia_)\n",
    "plt.xlabel('K')\n",
    "plt.ylabel('Sum of squared error')\n",
    "plt.plot(k_rng, sse)\n",
    "plt.show()\n"
   ]
  },
  {
   "cell_type": "markdown",
   "id": "df026464",
   "metadata": {},
   "source": [
    "# 8-entropy"
   ]
  },
  {
   "cell_type": "code",
   "execution_count": 57,
   "id": "489e14bf",
   "metadata": {},
   "outputs": [
    {
     "name": "stdout",
     "output_type": "stream",
     "text": [
      " Entropy: 3.0271691184406184\n"
     ]
    }
   ],
   "source": [
    "label_counts = np.bincount(km.labels_)  # count the number of occurrences for each label\n",
    "label_probs = label_counts / len(km.labels_)  # compute the probability distribution\n",
    "entropy_value = entropy(label_probs, base=2)  # compute the entropy\n",
    "print(\" Entropy:\", entropy_value)"
   ]
  },
  {
   "cell_type": "markdown",
   "id": "db09c2ff",
   "metadata": {},
   "source": [
    "# 9-Purity"
   ]
  },
  {
   "cell_type": "code",
   "execution_count": 58,
   "id": "2a0f14a2",
   "metadata": {},
   "outputs": [
    {
     "name": "stdout",
     "output_type": "stream",
     "text": [
      "Purity: 0.5\n"
     ]
    }
   ],
   "source": [
    "def purity_score(y_true, y_pred):\n",
    "    # compute contingency matrix (also called confusion matrix)\n",
    "    contingency_matrix = metrics.cluster.contingency_matrix(y_true, y_pred)\n",
    "    # return purity\n",
    "    return np.sum(np.amax(contingency_matrix, axis=0)) / np.sum(contingency_matrix)\n",
    "\n",
    "\n",
    "purity = purity_score(km.labels_, y_predicted)\n",
    "print(\"Purity:\", purity)\n"
   ]
  }
 ],
 "metadata": {
  "kernelspec": {
   "display_name": "Python 3 (ipykernel)",
   "language": "python",
   "name": "python3"
  },
  "language_info": {
   "codemirror_mode": {
    "name": "ipython",
    "version": 3
   },
   "file_extension": ".py",
   "mimetype": "text/x-python",
   "name": "python",
   "nbconvert_exporter": "python",
   "pygments_lexer": "ipython3",
   "version": "3.9.16"
  }
 },
 "nbformat": 4,
 "nbformat_minor": 5
}
